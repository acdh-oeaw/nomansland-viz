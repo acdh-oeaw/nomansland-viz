{
 "cells": [
  {
   "cell_type": "code",
   "execution_count": 2,
   "id": "da267562-a659-4f5c-a9fb-dc89c6c53025",
   "metadata": {},
   "outputs": [
    {
     "data": {
      "text/html": [
       "<div>\n",
       "<style scoped>\n",
       "    .dataframe tbody tr th:only-of-type {\n",
       "        vertical-align: middle;\n",
       "    }\n",
       "\n",
       "    .dataframe tbody tr th {\n",
       "        vertical-align: top;\n",
       "    }\n",
       "\n",
       "    .dataframe thead th {\n",
       "        text-align: right;\n",
       "    }\n",
       "</style>\n",
       "<table border=\"1\" class=\"dataframe\">\n",
       "  <thead>\n",
       "    <tr style=\"text-align: right;\">\n",
       "      <th></th>\n",
       "      <th>id</th>\n",
       "      <th>label</th>\n",
       "    </tr>\n",
       "    <tr>\n",
       "      <th>type</th>\n",
       "      <th></th>\n",
       "      <th></th>\n",
       "    </tr>\n",
       "  </thead>\n",
       "  <tbody>\n",
       "    <tr>\n",
       "      <th>Event</th>\n",
       "      <td>1</td>\n",
       "      <td>1</td>\n",
       "    </tr>\n",
       "    <tr>\n",
       "      <th>Expression</th>\n",
       "      <td>3111</td>\n",
       "      <td>3111</td>\n",
       "    </tr>\n",
       "    <tr>\n",
       "      <th>Institution</th>\n",
       "      <td>80</td>\n",
       "      <td>80</td>\n",
       "    </tr>\n",
       "    <tr>\n",
       "      <th>Manuscript</th>\n",
       "      <td>2377</td>\n",
       "      <td>2377</td>\n",
       "    </tr>\n",
       "    <tr>\n",
       "      <th>ManuscriptPart</th>\n",
       "      <td>2664</td>\n",
       "      <td>2664</td>\n",
       "    </tr>\n",
       "    <tr>\n",
       "      <th>Person</th>\n",
       "      <td>4291</td>\n",
       "      <td>4291</td>\n",
       "    </tr>\n",
       "    <tr>\n",
       "      <th>Place</th>\n",
       "      <td>545</td>\n",
       "      <td>545</td>\n",
       "    </tr>\n",
       "    <tr>\n",
       "      <th>Work</th>\n",
       "      <td>2198</td>\n",
       "      <td>2198</td>\n",
       "    </tr>\n",
       "  </tbody>\n",
       "</table>\n",
       "</div>"
      ],
      "text/plain": [
       "                  id  label\n",
       "type                       \n",
       "Event              1      1\n",
       "Expression      3111   3111\n",
       "Institution       80     80\n",
       "Manuscript      2377   2377\n",
       "ManuscriptPart  2664   2664\n",
       "Person          4291   4291\n",
       "Place            545    545\n",
       "Work            2198   2198"
      ]
     },
     "metadata": {},
     "output_type": "display_data"
    },
    {
     "name": "stdout",
     "output_type": "stream",
     "text": [
      "25458 15267\n"
     ]
    },
    {
     "data": {
      "text/html": [
       "<div>\n",
       "<style scoped>\n",
       "    .dataframe tbody tr th:only-of-type {\n",
       "        vertical-align: middle;\n",
       "    }\n",
       "\n",
       "    .dataframe tbody tr th {\n",
       "        vertical-align: top;\n",
       "    }\n",
       "\n",
       "    .dataframe thead th {\n",
       "        text-align: right;\n",
       "    }\n",
       "</style>\n",
       "<table border=\"1\" class=\"dataframe\">\n",
       "  <thead>\n",
       "    <tr style=\"text-align: right;\">\n",
       "      <th></th>\n",
       "      <th>id</th>\n",
       "      <th>source</th>\n",
       "      <th>target</th>\n",
       "      <th>type</th>\n",
       "      <th>source_type</th>\n",
       "      <th>target_type</th>\n",
       "    </tr>\n",
       "  </thead>\n",
       "  <tbody>\n",
       "    <tr>\n",
       "      <th>0</th>\n",
       "      <td>1</td>\n",
       "      <td>1</td>\n",
       "      <td>2</td>\n",
       "      <td>son of</td>\n",
       "      <td>Person</td>\n",
       "      <td>Person</td>\n",
       "    </tr>\n",
       "    <tr>\n",
       "      <th>1</th>\n",
       "      <td>2</td>\n",
       "      <td>1</td>\n",
       "      <td>2</td>\n",
       "      <td>studied with</td>\n",
       "      <td>Person</td>\n",
       "      <td>Person</td>\n",
       "    </tr>\n",
       "  </tbody>\n",
       "</table>\n",
       "</div>"
      ],
      "text/plain": [
       "   id  source  target          type source_type target_type\n",
       "0   1       1       2        son of      Person      Person\n",
       "1   2       1       2  studied with      Person      Person"
      ]
     },
     "execution_count": 2,
     "metadata": {},
     "output_type": "execute_result"
    }
   ],
   "source": [
    "import pandas as pd\n",
    "from tqdm import tqdm\n",
    "nodes = pd.read_csv(\"nodes_20250223_093508.csv\")\n",
    "links = pd.read_csv(\"links_20250223_093508.csv\")\n",
    "display(nodes.groupby(\"type\").agg(\"count\"))\n",
    "print(links.shape[0], nodes.shape[0])\n",
    "pd.set_option('display.max_rows', None)\n",
    "import networkx as nx\n",
    "from pyvis.network import Network\n",
    "\n",
    "# Add source and target type to links\n",
    "def node_type(x):\n",
    "    return nodes[nodes.id==x].iloc[0].type\n",
    "links= links[links.type!=\"testrel\"]\n",
    "links[\"source_type\"] = links.source.apply(node_type)\n",
    "links[\"target_type\"] = links.target.apply(node_type)\n",
    "links.head(2)\n"
   ]
  },
  {
   "cell_type": "markdown",
   "id": "8af0cee7-ebf2-4798-b4ca-d0020da08033",
   "metadata": {},
   "source": [
    " I need to ask you to send me some visualisations for a presentation I have in a few weeks. Mainly I need connections to \"Place\" and \"Expression\" and also \"people\" connecte to  \"Expression\" as \"copied by\". I also need the connection of all expression which have connection to place, including the relation between expression and manuscript, expression and work and manuscript to institution. Please, do this with the existing data in the old database.\n"
   ]
  },
  {
   "cell_type": "markdown",
   "id": "68c60a10-f383-4f18-b288-1d94f58b56e1",
   "metadata": {},
   "source": [
    "## Keep only links that have a pathway from Expression to Person or Expression to Place"
   ]
  },
  {
   "cell_type": "markdown",
   "id": "8fa89b06-0833-4f9a-8552-1a988be4fa5a",
   "metadata": {},
   "source": [
    "### 1. Expression copied by Person\n",
    "    - Remove all links involving person not in above link"
   ]
  },
  {
   "cell_type": "code",
   "execution_count": 3,
   "id": "c402b287-92bf-4a14-8634-a4e427933d5d",
   "metadata": {},
   "outputs": [
    {
     "name": "stdout",
     "output_type": "stream",
     "text": [
      "8356\n",
      "17101\n"
     ]
    }
   ],
   "source": [
    "person_expression_copied_by = links[links.type==\"copied by\"].target\n",
    "unwanted_persons = nodes[(nodes.type==\"Person\") &(~nodes.id.isin(person_expression_copied_by))]\n",
    "unwanted_persons.shape[0]\n",
    "unwanted_person_links = links[links.source.isin(unwanted_persons.id) | (links.target.isin(unwanted_persons.id))]\n",
    "print(unwanted_person_links.shape[0])\n",
    "selected_links = links[~links.id.isin(unwanted_person_links.id)]\n",
    "print(selected_links.shape[0])"
   ]
  },
  {
   "cell_type": "markdown",
   "id": "3a6d2c2b-9846-43fa-bc96-a68fad1b16f4",
   "metadata": {},
   "source": [
    "### 2. Institution located in Place"
   ]
  },
  {
   "cell_type": "code",
   "execution_count": 4,
   "id": "45a3fb83-631a-4182-8fbd-c4bf007fd168",
   "metadata": {},
   "outputs": [
    {
     "name": "stdout",
     "output_type": "stream",
     "text": [
      "57\n",
      "24\n",
      "49\n",
      "17063\n"
     ]
    }
   ],
   "source": [
    "institutions_located_in_place = selected_links[(selected_links.source_type==\"Institution\")&((selected_links.type==\"located at\")|(selected_links.type==\"located in\"))]\n",
    "print(institutions_located_in_place.shape[0])\n",
    "unwanted_institutions = nodes[(nodes.type==\"Institution\") & (~nodes.id.isin(institutions_located_in_place.source))]\n",
    "print(unwanted_institutions.shape[0])\n",
    "unwanted_institution_links = links[(links.source.isin(unwanted_institutions.id)) | (links.target.isin(unwanted_institutions.id))]\n",
    "print(unwanted_institution_links.shape[0])\n",
    "selected_links = selected_links[~selected_links.id.isin(unwanted_institution_links.id)]\n",
    "print(selected_links.shape[0])"
   ]
  },
  {
   "cell_type": "markdown",
   "id": "b260ea58-2645-4bb7-9970-260ae0875622",
   "metadata": {},
   "source": [
    "### 3. Manuscript Part acquired in Place"
   ]
  },
  {
   "cell_type": "code",
   "execution_count": 5,
   "id": "324a7a85-5f70-4274-8c4e-483618865f3c",
   "metadata": {},
   "outputs": [],
   "source": [
    "# manuscript_place_place_of_acquisiton = selected_links[(selected_links.target_type==\"ManuscriptPart\")&((selected_links.type==\"place of acquisition\"))]\n",
    "# print(manuscript_place_place_of_acquisiton.shape[0])\n",
    "# unwanted_manuscript_parts = nodes[(nodes.type==\"ManuscriptPart\")&(~nodes.id.isin(manuscript_place_place_of_acquisiton.target))]\n",
    "# print(unwanted_manuscript_parts.shape[0])\n",
    "# unwanted_manuscript_part_links = links[(links.source.isin(unwanted_manuscript_parts.id)) | (links.target.isin(unwanted_manuscript_parts.id))]\n",
    "# print(unwanted_manuscript_part_links.shape[0])\n",
    "# selected_links = selected_links[~selected_links.id.isin(unwanted_manuscript_part_links.id)]\n",
    "# print(selected_links.shape[0])"
   ]
  },
  {
   "cell_type": "markdown",
   "id": "526edca5-8d20-4f0d-ad66-6a37f568c2d4",
   "metadata": {},
   "source": [
    "### 4. Manuscripts containing Expressions"
   ]
  },
  {
   "cell_type": "code",
   "execution_count": 6,
   "id": "ff898a51-0b9b-4a8a-ad46-5701e9e3ab92",
   "metadata": {},
   "outputs": [
    {
     "name": "stdout",
     "output_type": "stream",
     "text": [
      "3101 88\n",
      "215\n",
      "16854\n"
     ]
    }
   ],
   "source": [
    "manuscript_contains_expression = selected_links[(selected_links.target_type==\"Expression\")&(selected_links.type==\"contains\")]\n",
    "unwanted_manuscripts = nodes[(nodes.type==\"Manuscript\")&(~nodes.id.isin(manuscript_contains_expression.source))]\n",
    "print(manuscript_contains_expression.shape[0], unwanted_manuscripts.shape[0])\n",
    "unwanted_manuscript_links = links[(links.source.isin(unwanted_manuscripts.id)) | (links.target.isin(unwanted_manuscripts.id))]\n",
    "print(unwanted_manuscript_links.shape[0])\n",
    "selected_links = selected_links[~selected_links.id.isin(unwanted_manuscript_links.id)]\n",
    "print(selected_links.shape[0])\n"
   ]
  },
  {
   "cell_type": "markdown",
   "id": "3d7cb5c5-ded9-466a-aaec-39daae5f3dd1",
   "metadata": {},
   "source": [
    "### 4.1 Manuscript-Institutions\n"
   ]
  },
  {
   "cell_type": "code",
   "execution_count": 7,
   "id": "9a06a399-5622-4c44-bada-b7c639ad8419",
   "metadata": {},
   "outputs": [
    {
     "name": "stdout",
     "output_type": "stream",
     "text": [
      "2421\n",
      "14540\n"
     ]
    }
   ],
   "source": [
    "\n",
    "institutions_manuscripts =  selected_links[(selected_links.target_type==\"Institution\")&(selected_links.source_type==\"Manuscript\")]\n",
    "unwanted_institutions = nodes[(nodes.type==\"Institution\")&(~nodes.id.isin(institutions_manuscripts.source))]\n",
    "unwanted_institution_links = links[(links.source.isin(unwanted_institutions.id)) | (links.target.isin(unwanted_institutions.id))]\n",
    "print(unwanted_institution_links.shape[0])\n",
    "selected_links = selected_links[~selected_links.id.isin(unwanted_institution_links.id)]\n",
    "print(selected_links.shape[0])\n"
   ]
  },
  {
   "cell_type": "markdown",
   "id": "da79e07c-05bd-4d38-bc51-0422a5eec57f",
   "metadata": {},
   "source": [
    "## 5. Works Place Relations"
   ]
  },
  {
   "cell_type": "code",
   "execution_count": 8,
   "id": "af533993-c2f9-4cc2-b1f2-52abb0e33756",
   "metadata": {},
   "outputs": [
    {
     "name": "stdout",
     "output_type": "stream",
     "text": [
      "48\n",
      "2154\n",
      "8364\n",
      "8313\n"
     ]
    }
   ],
   "source": [
    "work_place_relations = selected_links[(selected_links.target_type==\"Work\")&(selected_links.source_type==\"Place\")]\n",
    "print(work_place_relations.shape[0])\n",
    "unwanted_works = nodes[(nodes.type==\"Work\") & (~nodes.id.isin(work_place_relations.target))]\n",
    "print(unwanted_works.shape[0])\n",
    "unwanted_work_links = links[(links.source.isin(unwanted_works.id)) | (links.target.isin(unwanted_works.id))]\n",
    "print(unwanted_work_links.shape[0])\n",
    "selected_links = selected_links[~selected_links.id.isin(unwanted_work_links.id)]\n",
    "print(selected_links.shape[0])"
   ]
  },
  {
   "cell_type": "markdown",
   "id": "f9f4968e-a474-43d7-9ceb-44047b645aa1",
   "metadata": {},
   "source": [
    "## 6. Expression-Manuscript-Place and Expression-Manuscript-Institution-Place\n",
    "\n",
    "Keep only those Expression-Manuscripts where Manuscripts have a relation to place\n"
   ]
  },
  {
   "cell_type": "code",
   "execution_count": 9,
   "id": "054f9a1c-63b3-473d-abb4-a2a16f47f36f",
   "metadata": {},
   "outputs": [
    {
     "name": "stdout",
     "output_type": "stream",
     "text": [
      "343\n",
      "11196\n",
      "3371\n"
     ]
    }
   ],
   "source": [
    "manuscript_place_links = selected_links[(selected_links.source_type==\"Manuscript\")&((selected_links.target_type==\"Place\")|(selected_links.source_type==\"Institution\"))]\n",
    "print(manuscript_place_links.shape[0])\n",
    "\n",
    "unwanted_manuscripts = nodes[(nodes.type==\"Manuscript\")&(~nodes.id.isin(manuscript_place_links.source))]\n",
    "unwanted_manuscript_links = links[(links.source.isin(unwanted_manuscripts.id)) | (links.target.isin(unwanted_manuscripts.id))]\n",
    "print(unwanted_manuscript_links.shape[0])\n",
    "selected_links = selected_links[~selected_links.id.isin(unwanted_manuscript_links.id)]\n",
    "print(selected_links.shape[0])\n"
   ]
  },
  {
   "cell_type": "markdown",
   "id": "a50d5bcc-0ca6-4368-a3f1-0092963aa066",
   "metadata": {},
   "source": [
    "### 7. Remove links between the same types"
   ]
  },
  {
   "cell_type": "code",
   "execution_count": 10,
   "id": "e0b26de1-d37b-4801-92b2-0b2e40cfef75",
   "metadata": {},
   "outputs": [
    {
     "name": "stdout",
     "output_type": "stream",
     "text": [
      "2974\n"
     ]
    }
   ],
   "source": [
    "selected_links = selected_links[selected_links.source_type!=selected_links.target_type]\n",
    "print(selected_links.shape[0])"
   ]
  },
  {
   "cell_type": "markdown",
   "id": "be67b3e3-86dd-48e1-a68f-d2c1fff74bca",
   "metadata": {},
   "source": [
    "### 8. Remove Persons"
   ]
  },
  {
   "cell_type": "code",
   "execution_count": 11,
   "id": "3c340939-ab3f-4bbc-bbaa-1f9d1711877d",
   "metadata": {},
   "outputs": [],
   "source": [
    "# selected_links = selected_links[selected_links.source_type!=\"Person\"]\n",
    "# selected_links = selected_links[selected_links.target_type!=\"Person\"]\n",
    "# print(selected_links.shape[0])"
   ]
  },
  {
   "cell_type": "code",
   "execution_count": 12,
   "id": "9f49aee5-b553-46e5-a28d-78ff3886aaaf",
   "metadata": {},
   "outputs": [
    {
     "data": {
      "text/html": [
       "<div>\n",
       "<style scoped>\n",
       "    .dataframe tbody tr th:only-of-type {\n",
       "        vertical-align: middle;\n",
       "    }\n",
       "\n",
       "    .dataframe tbody tr th {\n",
       "        vertical-align: top;\n",
       "    }\n",
       "\n",
       "    .dataframe thead th {\n",
       "        text-align: right;\n",
       "    }\n",
       "</style>\n",
       "<table border=\"1\" class=\"dataframe\">\n",
       "  <thead>\n",
       "    <tr style=\"text-align: right;\">\n",
       "      <th></th>\n",
       "      <th></th>\n",
       "      <th>id</th>\n",
       "      <th>source</th>\n",
       "      <th>target</th>\n",
       "      <th>type</th>\n",
       "    </tr>\n",
       "    <tr>\n",
       "      <th>source_type</th>\n",
       "      <th>target_type</th>\n",
       "      <th></th>\n",
       "      <th></th>\n",
       "      <th></th>\n",
       "      <th></th>\n",
       "    </tr>\n",
       "  </thead>\n",
       "  <tbody>\n",
       "    <tr>\n",
       "      <th rowspan=\"3\" valign=\"top\">Expression</th>\n",
       "      <th>ManuscriptPart</th>\n",
       "      <td>2</td>\n",
       "      <td>2</td>\n",
       "      <td>2</td>\n",
       "      <td>2</td>\n",
       "    </tr>\n",
       "    <tr>\n",
       "      <th>Person</th>\n",
       "      <td>1232</td>\n",
       "      <td>1232</td>\n",
       "      <td>1232</td>\n",
       "      <td>1232</td>\n",
       "    </tr>\n",
       "    <tr>\n",
       "      <th>Work</th>\n",
       "      <td>126</td>\n",
       "      <td>126</td>\n",
       "      <td>126</td>\n",
       "      <td>126</td>\n",
       "    </tr>\n",
       "    <tr>\n",
       "      <th rowspan=\"5\" valign=\"top\">Manuscript</th>\n",
       "      <th>Expression</th>\n",
       "      <td>438</td>\n",
       "      <td>438</td>\n",
       "      <td>438</td>\n",
       "      <td>438</td>\n",
       "    </tr>\n",
       "    <tr>\n",
       "      <th>ManuscriptPart</th>\n",
       "      <td>410</td>\n",
       "      <td>410</td>\n",
       "      <td>410</td>\n",
       "      <td>410</td>\n",
       "    </tr>\n",
       "    <tr>\n",
       "      <th>Person</th>\n",
       "      <td>2</td>\n",
       "      <td>2</td>\n",
       "      <td>2</td>\n",
       "      <td>2</td>\n",
       "    </tr>\n",
       "    <tr>\n",
       "      <th>Place</th>\n",
       "      <td>343</td>\n",
       "      <td>343</td>\n",
       "      <td>343</td>\n",
       "      <td>343</td>\n",
       "    </tr>\n",
       "    <tr>\n",
       "      <th>Work</th>\n",
       "      <td>16</td>\n",
       "      <td>16</td>\n",
       "      <td>16</td>\n",
       "      <td>16</td>\n",
       "    </tr>\n",
       "    <tr>\n",
       "      <th rowspan=\"3\" valign=\"top\">Person</th>\n",
       "      <th>ManuscriptPart</th>\n",
       "      <td>31</td>\n",
       "      <td>31</td>\n",
       "      <td>31</td>\n",
       "      <td>31</td>\n",
       "    </tr>\n",
       "    <tr>\n",
       "      <th>Place</th>\n",
       "      <td>74</td>\n",
       "      <td>74</td>\n",
       "      <td>74</td>\n",
       "      <td>74</td>\n",
       "    </tr>\n",
       "    <tr>\n",
       "      <th>Work</th>\n",
       "      <td>7</td>\n",
       "      <td>7</td>\n",
       "      <td>7</td>\n",
       "      <td>7</td>\n",
       "    </tr>\n",
       "    <tr>\n",
       "      <th rowspan=\"3\" valign=\"top\">Place</th>\n",
       "      <th>Expression</th>\n",
       "      <td>237</td>\n",
       "      <td>237</td>\n",
       "      <td>237</td>\n",
       "      <td>237</td>\n",
       "    </tr>\n",
       "    <tr>\n",
       "      <th>ManuscriptPart</th>\n",
       "      <td>8</td>\n",
       "      <td>8</td>\n",
       "      <td>8</td>\n",
       "      <td>8</td>\n",
       "    </tr>\n",
       "    <tr>\n",
       "      <th>Work</th>\n",
       "      <td>48</td>\n",
       "      <td>48</td>\n",
       "      <td>48</td>\n",
       "      <td>48</td>\n",
       "    </tr>\n",
       "  </tbody>\n",
       "</table>\n",
       "</div>"
      ],
      "text/plain": [
       "                              id  source  target  type\n",
       "source_type target_type                               \n",
       "Expression  ManuscriptPart     2       2       2     2\n",
       "            Person          1232    1232    1232  1232\n",
       "            Work             126     126     126   126\n",
       "Manuscript  Expression       438     438     438   438\n",
       "            ManuscriptPart   410     410     410   410\n",
       "            Person             2       2       2     2\n",
       "            Place            343     343     343   343\n",
       "            Work              16      16      16    16\n",
       "Person      ManuscriptPart    31      31      31    31\n",
       "            Place             74      74      74    74\n",
       "            Work               7       7       7     7\n",
       "Place       Expression       237     237     237   237\n",
       "            ManuscriptPart     8       8       8     8\n",
       "            Work              48      48      48    48"
      ]
     },
     "metadata": {},
     "output_type": "display_data"
    },
    {
     "name": "stdout",
     "output_type": "stream",
     "text": [
      "2974\n"
     ]
    }
   ],
   "source": [
    "display(selected_links.groupby([\"source_type\", \"target_type\"]).agg(\"count\"))\n",
    "print(selected_links.shape[0])"
   ]
  },
  {
   "cell_type": "code",
   "execution_count": 13,
   "id": "eadd09b3-8f04-459d-8c72-309f06128c65",
   "metadata": {},
   "outputs": [
    {
     "data": {
      "text/html": [
       "<div>\n",
       "<style scoped>\n",
       "    .dataframe tbody tr th:only-of-type {\n",
       "        vertical-align: middle;\n",
       "    }\n",
       "\n",
       "    .dataframe tbody tr th {\n",
       "        vertical-align: top;\n",
       "    }\n",
       "\n",
       "    .dataframe thead th {\n",
       "        text-align: right;\n",
       "    }\n",
       "</style>\n",
       "<table border=\"1\" class=\"dataframe\">\n",
       "  <thead>\n",
       "    <tr style=\"text-align: right;\">\n",
       "      <th></th>\n",
       "      <th>id</th>\n",
       "    </tr>\n",
       "    <tr>\n",
       "      <th>type</th>\n",
       "      <th></th>\n",
       "    </tr>\n",
       "  </thead>\n",
       "  <tbody>\n",
       "    <tr>\n",
       "      <th>copied by</th>\n",
       "      <td>1217</td>\n",
       "    </tr>\n",
       "    <tr>\n",
       "      <th>contains</th>\n",
       "      <td>848</td>\n",
       "    </tr>\n",
       "    <tr>\n",
       "      <th>copied in</th>\n",
       "      <td>322</td>\n",
       "    </tr>\n",
       "    <tr>\n",
       "      <th>place of copy of</th>\n",
       "      <td>237</td>\n",
       "    </tr>\n",
       "    <tr>\n",
       "      <th>a copy of</th>\n",
       "      <td>126</td>\n",
       "    </tr>\n",
       "    <tr>\n",
       "      <th>place of composition of</th>\n",
       "      <td>47</td>\n",
       "    </tr>\n",
       "    <tr>\n",
       "      <th>bought in</th>\n",
       "      <td>21</td>\n",
       "    </tr>\n",
       "    <tr>\n",
       "      <th>lived in</th>\n",
       "      <td>18</td>\n",
       "    </tr>\n",
       "    <tr>\n",
       "      <th>mentioned in</th>\n",
       "      <td>18</td>\n",
       "    </tr>\n",
       "    <tr>\n",
       "      <th>born in</th>\n",
       "      <td>17</td>\n",
       "    </tr>\n",
       "  </tbody>\n",
       "</table>\n",
       "</div>"
      ],
      "text/plain": [
       "                           id\n",
       "type                         \n",
       "copied by                1217\n",
       "contains                  848\n",
       "copied in                 322\n",
       "place of copy of          237\n",
       "a copy of                 126\n",
       "place of composition of    47\n",
       "bought in                  21\n",
       "lived in                   18\n",
       "mentioned in               18\n",
       "born in                    17"
      ]
     },
     "metadata": {},
     "output_type": "display_data"
    }
   ],
   "source": [
    "display(selected_links.groupby([\"type\"]).agg({\"id\":\"count\"}).sort_values(\"id\", ascending=False).head(10))\n",
    "\n"
   ]
  },
  {
   "cell_type": "code",
   "execution_count": 14,
   "id": "641ca809-d210-477f-9f40-c04cc33bf24a",
   "metadata": {},
   "outputs": [],
   "source": [
    "def get_link(node):\n",
    "    return f\"<a href='https://nomansland-dev.acdh-ch-dev.oeaw.ac.at/apis/apis_ontology.{node.type.lower()}/{node.id}>{node.label}</a>\"\n",
    "\n",
    "\n",
    "def make_graph(nodes_df, links_df, html_out=\"pyvis.html\"):\n",
    "    ICONS = {'person': '\\uf183',\n",
    " 'place': '\\uf3c5',\n",
    " 'institution': '\\uf19c',\n",
    " 'event': '\\uf0f3',\n",
    " 'work': '\\uf02d',\n",
    " 'expression': '\\uf219',\n",
    " 'manuscript': '\\uf70e',\n",
    " 'manuscriptpart': '\\ue698'}\n",
    "\n",
    "    COLOURS = {\n",
    "    'person': 'orange',     \n",
    "    'place': 'green',       \n",
    "    'institution': 'purple',\n",
    "    'work': 'red',          \n",
    "    'expression': 'blue',\n",
    "    'manuscript': 'brown',\n",
    "    'manuscriptpart': 'brown'\n",
    "    }\n",
    "    def get_node(id):\n",
    "        return nodes[nodes_df.id==id].iloc[0]\n",
    "\n",
    "    G = nx.Graph()\n",
    "        \n",
    "    for i, l in tqdm(links_df.iterrows(), total=links_df.shape[0]):\n",
    "        src = get_node(l.source)\n",
    "        tgt = get_node(l.target)\n",
    "        src_url = f\"\"\n",
    "        tgt_url = f\"https://nomansland-dev.acdh-ch-dev.oeaw.ac.at/apis/apis_ontology.{tgt.type.lower()}/{tgt.id}\"\n",
    "    \n",
    "        source_target_type = \" - \".join(sorted([src.type, tgt.type]))\n",
    "        relation_pair = \n",
    "        G.add_edge(l.source, l.target, group=l.type, source_target_type=source_target_type,  title=f\"{src.label} {l.type} {tgt.label}\")\n",
    "        G.add_node(src.id, title=src.label, label=src.label, group=src.type.lower(),shape=\"icon\")\n",
    "        G.add_node(tgt.id, title=tgt.label, label=tgt.label, group=tgt.type.lower(),shape=\"icon\")\n",
    "    \n",
    "    net = Network(notebook=True,height=\"90vh\", width=\"100%\", filter_menu=True,layout=True, neighborhood_highlight=True)\n",
    "    net.from_nx(G)\n",
    "    # # Add nodes with size based on degree (number of connections)\n",
    "    # for node in G.nodes():\n",
    "    #     degree = G.degree(node)  # Get number of edges for this node\n",
    "    #     node_data = get_node(node)\n",
    "    #     net.add_node(node,#shape=\"icon\", size=degree * 5, \n",
    "    #                  title=node_data.label, group=node_data.type)  # Scale size (adjust multiplier as needed)\n",
    "    \n",
    "    net.set_options(\"\"\"\n",
    "     var options={\"nodes\": {\n",
    "        \"borderWidth\": \"null\",\n",
    "        \"borderWidthSelected\": \"null\",\n",
    "        \"opacity\": \"null\",\n",
    "        \"shapeProperties\": {\n",
    "          \"interpolation\": \"false\"\n",
    "        },\n",
    "        \"size\": 50\n",
    "      },\n",
    "      \"groups\": {},\n",
    "      \"edges\": {\n",
    "          \"width\":10,\n",
    "          \"smooth\":\"false\",\n",
    "          \"color\": \"blue\"\n",
    "      },\n",
    "      \"interaction\": {\n",
    "        \"navigationButtons\": \"true\"\n",
    "      },\n",
    "      \"physics\": {\n",
    "        \"stabilization\": { \"iterations\": 100, \"fit\": \"true\" },\n",
    "        \"barnesHut\": { \"gravitationalConstant\": -8000 },   \n",
    "        \"minVelocity\": 0.75\n",
    "      },\n",
    "        \"configure\": {\"enabled\": \"true\", \"showButton\": \"true\", \n",
    "                      \"filter\": [\"physics\", \"nodes\", \"edges\"]}\n",
    "    \n",
    "    }\n",
    "    \"\"\")\n",
    "    \n",
    "    for g in nodes.type.unique():\n",
    "        net.options[\"groups\"][g.lower()] =  {\n",
    "                    \"shape\": 'icon',\n",
    "                    \"size\": 50,\n",
    "                    \"icon\": {\n",
    "                        \"face\": 'FontAwesome',\n",
    "                        \"code\": ICONS.get(g.lower()),\n",
    "                        \"color\": COLOURS.get(g.lower())\n",
    "                    }\n",
    "        }\n",
    "    \n",
    "    net.write_html(html_out)\n",
    "    html_str = net.html.replace(\n",
    "      '<head>',\n",
    "       '<head><link rel=\"stylesheet\" href=\"https://cdnjs.cloudflare.com/ajax/libs/font-awesome/6.7.2/css/all.min.css\">').replace('\"false\"',\n",
    "                                                                                                                                 \"false\").replace('\"true\"', \n",
    "                                                                                                                                 \"true\").replace('\"null\"', \n",
    "                                                                                                                                                 \"null\")\n",
    "    \n",
    "    # net.save_graph(output_file)\n",
    "    with open(html_out, \"w\") as f:\n",
    "        f.write(html_str)\n",
    "\n",
    "    print(\"The visualisation is saved in \", html_out)"
   ]
  },
  {
   "cell_type": "code",
   "execution_count": 17,
   "id": "f1c42695-7047-4a0a-918b-9c79f36fa4a5",
   "metadata": {},
   "outputs": [
    {
     "data": {
      "text/plain": [
       "1628"
      ]
     },
     "execution_count": 17,
     "metadata": {},
     "output_type": "execute_result"
    }
   ],
   "source": [
    "links_sans_persons = selected_links[(selected_links.target_type!=\"Person\")&(selected_links.source_type!=\"Person\")]\n",
    "links_sans_persons.shape[0]"
   ]
  },
  {
   "cell_type": "code",
   "execution_count": 19,
   "id": "68c719dd-7b7f-4e40-b7e3-953fbe5ade12",
   "metadata": {},
   "outputs": [
    {
     "name": "stderr",
     "output_type": "stream",
     "text": [
      "100%|███████████████████████████████████████████████████████████████████████████████████████████████████████████████████████████████████████████████████████████████████████| 2974/2974 [00:02<00:00, 1112.64it/s]\n"
     ]
    },
    {
     "name": "stdout",
     "output_type": "stream",
     "text": [
      "Warning: When  cdn_resources is 'local' jupyter notebook has issues displaying graphics on chrome/safari. Use cdn_resources='in_line' or cdn_resources='remote' if you have issues viewing graphics in a notebook.\n",
      "The visualisation is saved in  ../viz/expressions-persons-places.html\n"
     ]
    },
    {
     "name": "stderr",
     "output_type": "stream",
     "text": [
      "100%|███████████████████████████████████████████████████████████████████████████████████████████████████████████████████████████████████████████████████████████████████████| 1628/1628 [00:01<00:00, 1154.87it/s]\n"
     ]
    },
    {
     "name": "stdout",
     "output_type": "stream",
     "text": [
      "Warning: When  cdn_resources is 'local' jupyter notebook has issues displaying graphics on chrome/safari. Use cdn_resources='in_line' or cdn_resources='remote' if you have issues viewing graphics in a notebook.\n",
      "The visualisation is saved in  ../viz/expressions-places.html\n"
     ]
    }
   ],
   "source": [
    "make_graph(nodes, selected_links, \"../viz/expressions-persons-places.html\")\n",
    "make_graph(nodes, links_sans_persons, \"../viz/expressions-places.html\")"
   ]
  },
  {
   "cell_type": "code",
   "execution_count": 20,
   "id": "26c07887-a908-431c-9641-faa2111a5fae",
   "metadata": {},
   "outputs": [],
   "source": [
    "selected_links.to_csv(\"expressions-persons-places.csv\", index=False)"
   ]
  },
  {
   "cell_type": "code",
   "execution_count": 21,
   "id": "76e84eae-499f-463c-9e27-d74178f1cb2a",
   "metadata": {},
   "outputs": [],
   "source": [
    "links_sans_persons.to_csv(\"expressions-places.csv\", index=False)"
   ]
  },
  {
   "cell_type": "code",
   "execution_count": null,
   "id": "63a5cde1-a431-462a-9a4c-409774a57167",
   "metadata": {},
   "outputs": [],
   "source": []
  }
 ],
 "metadata": {
  "kernelspec": {
   "display_name": "Python 3 (ipykernel)",
   "language": "python",
   "name": "python3"
  },
  "language_info": {
   "codemirror_mode": {
    "name": "ipython",
    "version": 3
   },
   "file_extension": ".py",
   "mimetype": "text/x-python",
   "name": "python",
   "nbconvert_exporter": "python",
   "pygments_lexer": "ipython3",
   "version": "3.12.3"
  }
 },
 "nbformat": 4,
 "nbformat_minor": 5
}
